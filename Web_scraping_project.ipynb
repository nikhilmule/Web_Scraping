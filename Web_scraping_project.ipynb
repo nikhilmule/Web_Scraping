{
 "cells": [
  {
   "cell_type": "code",
   "execution_count": 1,
   "metadata": {},
   "outputs": [],
   "source": [
    "import requests\n",
    "from bs4 import BeautifulSoup\n",
    "import json\n",
    "import pandas as pd"
   ]
  },
  {
   "cell_type": "code",
   "execution_count": 2,
   "metadata": {},
   "outputs": [],
   "source": [
    "page = requests.get(\"https://www.familydollar.com/locations/id/\")\n",
    "page.encoding = 'ISO-885901'\n",
    "soup = BeautifulSoup(page.text, 'html.parser')"
   ]
  },
  {
   "cell_type": "code",
   "execution_count": 3,
   "metadata": {},
   "outputs": [],
   "source": [
    "dollar_tree_list = soup.find_all(class_ = 'itemlist')"
   ]
  },
  {
   "cell_type": "code",
   "execution_count": 4,
   "metadata": {},
   "outputs": [
    {
     "name": "stdout",
     "output_type": "stream",
     "text": [
      "<div class=\"itemlist\" data-fl=\"A\"><a class=\"ga_w2gi_lp\" data-gaact=\"Click_to_CityPage\" data-galoc=\"Aberdeen - ID\" dta-linktrack=\"City index page - Aberdeen\" href=\"https://www.familydollar.com/locations/id/aberdeen/\">Aberdeen</a></div>\n",
      "<div class=\"itemlist\" data-fl=\"A\"><a class=\"ga_w2gi_lp\" data-gaact=\"Click_to_CityPage\" data-galoc=\"American Falls - ID\" dta-linktrack=\"City index page - American Falls\" href=\"https://www.familydollar.com/locations/id/american-falls/\">American Falls</a></div>\n"
     ]
    }
   ],
   "source": [
    "for i in dollar_tree_list[:2]:\n",
    "    print(i)"
   ]
  },
  {
   "cell_type": "code",
   "execution_count": 5,
   "metadata": {},
   "outputs": [],
   "source": [
    "city_hrefs = []\n",
    "\n",
    "for i in dollar_tree_list:\n",
    "    cont = i.contents[0]\n",
    "    href = cont['href']\n",
    "    city_hrefs.append(href)"
   ]
  },
  {
   "cell_type": "code",
   "execution_count": 7,
   "metadata": {},
   "outputs": [
    {
     "data": {
      "text/plain": [
       "['https://www.familydollar.com/locations/id/aberdeen/',\n",
       " 'https://www.familydollar.com/locations/id/american-falls/',\n",
       " 'https://www.familydollar.com/locations/id/arco/',\n",
       " 'https://www.familydollar.com/locations/id/ashton/',\n",
       " 'https://www.familydollar.com/locations/id/bellevue/']"
      ]
     },
     "execution_count": 7,
     "metadata": {},
     "output_type": "execute_result"
    }
   ],
   "source": [
    "city_hrefs[0:5]"
   ]
  },
  {
   "cell_type": "code",
   "execution_count": 16,
   "metadata": {},
   "outputs": [
    {
     "name": "stdout",
     "output_type": "stream",
     "text": [
      "https://www.familydollar.com/locations/id/aberdeen/\n",
      "https://www.familydollar.com/locations/id/american-falls/\n",
      "https://www.familydollar.com/locations/id/arco/\n",
      "https://www.familydollar.com/locations/id/ashton/\n",
      "https://www.familydollar.com/locations/id/bellevue/\n"
     ]
    }
   ],
   "source": [
    "for i in city_hrefs[0:5]:\n",
    "    print(i)"
   ]
  },
  {
   "cell_type": "markdown",
   "metadata": {},
   "source": [
    "# Address"
   ]
  },
  {
   "cell_type": "code",
   "execution_count": 15,
   "metadata": {},
   "outputs": [
    {
     "name": "stdout",
     "output_type": "stream",
     "text": [
      "\n",
      "FamilyDollar#11028\n",
      "\n",
      "111NMainStreet\n",
      "\n",
      "Aberdeen,\n",
      "\tID\n",
      "83210\n",
      "US\n",
      "\n",
      "PHONE:208-776-4784\n",
      "ViewStoreDetails\n",
      "\n",
      "\n",
      "FamilyDollar#6564\n",
      "\n",
      "253HarrisonSt\n",
      "\n",
      "AmericanFalls,\n",
      "\tID\n",
      "83211\n",
      "US\n",
      "\n",
      "PHONE:208-915-3753\n",
      "ViewStoreDetails\n",
      "\n",
      "\n",
      "FamilyDollar#9143\n",
      "\n",
      "157WGrandAvenue\n",
      "\n",
      "Arco,\n",
      "\tID\n",
      "83213\n",
      "US\n",
      "\n",
      "PHONE:208-776-4783\n",
      "ViewStoreDetails\n",
      "\n",
      "\n",
      "FamilyDollar#11130\n",
      "\n",
      "177MainStreet\n",
      "\n",
      "Ashton,\n",
      "\tID\n",
      "83420\n",
      "US\n",
      "\n",
      "PHONE:208-776-4785\n",
      "ViewStoreDetails\n",
      "\n",
      "\n",
      "FamilyDollar#10097\n",
      "\n",
      "747N.MainSt.\n",
      "\n",
      "Bellevue,\n",
      "\tID\n",
      "83313\n",
      "US\n",
      "\n",
      "PHONE:208-928-5015\n",
      "ViewStoreDetails\n",
      "\n"
     ]
    }
   ],
   "source": [
    "for i in range(0,5):\n",
    "    page2 = requests.get(city_hrefs[i])\n",
    "    soup2 = BeautifulSoup(page2.text, 'html.parser')\n",
    "    d = soup2.find(class_ = \"itemlist forcitypage\").text.replace(' ',  '')\n",
    "    print(d)"
   ]
  },
  {
   "cell_type": "markdown",
   "metadata": {},
   "source": [
    "# For accessing store details"
   ]
  },
  {
   "cell_type": "code",
   "execution_count": 17,
   "metadata": {},
   "outputs": [
    {
     "name": "stdout",
     "output_type": "stream",
     "text": [
      "https://www.familydollar.com/locations/id/aberdeen/31028/\n",
      "https://www.familydollar.com/locations/id/american-falls/26564/\n",
      "https://www.familydollar.com/locations/id/arco/29143/\n",
      "https://www.familydollar.com/locations/id/ashton/31130/\n",
      "https://www.familydollar.com/locations/id/bellevue/30097/\n"
     ]
    }
   ],
   "source": [
    "required_href = []\n",
    "\n",
    "for i in range(0,5):\n",
    "    page2 = requests.get(city_hrefs[i])\n",
    "    soup2 = BeautifulSoup(page2.text, 'html.parser')\n",
    "    d = soup2.find(class_ = \"itemlist forcitypage\")\n",
    "    e = d.contents[11]\n",
    "    z = e.find('a', class_ = \"ga_w2gi_lp\")\n",
    "    z_href = z['href']\n",
    "    required_href.append(z_href)\n",
    "\n",
    "for y in required_href:\n",
    "    print(y)"
   ]
  },
  {
   "cell_type": "code",
   "execution_count": null,
   "metadata": {},
   "outputs": [],
   "source": []
  }
 ],
 "metadata": {
  "kernelspec": {
   "display_name": "Python 3",
   "language": "python",
   "name": "python3"
  },
  "language_info": {
   "codemirror_mode": {
    "name": "ipython",
    "version": 3
   },
   "file_extension": ".py",
   "mimetype": "text/x-python",
   "name": "python",
   "nbconvert_exporter": "python",
   "pygments_lexer": "ipython3",
   "version": "3.8.5"
  }
 },
 "nbformat": 4,
 "nbformat_minor": 4
}
